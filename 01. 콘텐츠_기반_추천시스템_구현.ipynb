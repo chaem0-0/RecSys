{
  "nbformat": 4,
  "nbformat_minor": 0,
  "metadata": {
    "colab": {
      "provenance": []
    },
    "kernelspec": {
      "name": "python3",
      "display_name": "Python 3"
    },
    "language_info": {
      "name": "python"
    }
  },
  "cells": [
    {
      "cell_type": "markdown",
      "source": [
        "## 콘텐츠 기반 추천시스템 구현하기\n",
        "Dataset : MovieLens100k dataset\n",
        "\n",
        "\n",
        "600명의 사용자가 9,000편의 영화에 매긴 100,000개의 평가 데이터와 3,600건의 태그를 적용한 데이터 (latest update : 2018 9월)\n"
      ],
      "metadata": {
        "id": "gUEb4eJGK6wW"
      }
    },
    {
      "cell_type": "code",
      "execution_count": null,
      "metadata": {
        "colab": {
          "base_uri": "https://localhost:8080/"
        },
        "id": "am6yaowQKp7d",
        "outputId": "6f740da5-44f1-48e6-8e3e-ab213111ade9"
      },
      "outputs": [
        {
          "output_type": "stream",
          "name": "stdout",
          "text": [
            "Mounted at /content/drive\n"
          ]
        }
      ],
      "source": [
        "from google.colab import drive\n",
        "drive.mount('/content/drive')"
      ]
    },
    {
      "cell_type": "code",
      "source": [
        "import pandas as pd\n",
        "import numpy as np"
      ],
      "metadata": {
        "id": "p3DG7DVOOvRe"
      },
      "execution_count": null,
      "outputs": []
    },
    {
      "cell_type": "code",
      "source": [
        "movie_dataset = pd.read_csv('/content/drive/MyDrive/Recsys/ml-latest-small/movies.csv')\n",
        "rate_dataset = pd.read_csv('/content/drive/MyDrive/Recsys/ml-latest-small/ratings.csv')\n",
        "tag_dataset = pd.read_csv('/content/drive/MyDrive/Recsys/ml-latest-small/tags.csv')"
      ],
      "metadata": {
        "id": "Wx_QRf-zOVJC"
      },
      "execution_count": null,
      "outputs": []
    },
    {
      "cell_type": "code",
      "source": [
        "print(movie_dataset.head())\n",
        "print(rate_dataset.head())\n",
        "print(tag_dataset.head())"
      ],
      "metadata": {
        "colab": {
          "base_uri": "https://localhost:8080/"
        },
        "id": "V0zeSlgxUcsw",
        "outputId": "2bb7ab49-0b33-4c62-89e0-b7e2873b587e"
      },
      "execution_count": null,
      "outputs": [
        {
          "output_type": "stream",
          "name": "stdout",
          "text": [
            "   movieId                               title  \\\n",
            "0        1                    Toy Story (1995)   \n",
            "1        2                      Jumanji (1995)   \n",
            "2        3             Grumpier Old Men (1995)   \n",
            "3        4            Waiting to Exhale (1995)   \n",
            "4        5  Father of the Bride Part II (1995)   \n",
            "\n",
            "                                        genres  \n",
            "0  Adventure|Animation|Children|Comedy|Fantasy  \n",
            "1                   Adventure|Children|Fantasy  \n",
            "2                               Comedy|Romance  \n",
            "3                         Comedy|Drama|Romance  \n",
            "4                                       Comedy  \n",
            "   userId  movieId  rating  timestamp\n",
            "0       1        1     4.0  964982703\n",
            "1       1        3     4.0  964981247\n",
            "2       1        6     4.0  964982224\n",
            "3       1       47     5.0  964983815\n",
            "4       1       50     5.0  964982931\n",
            "   userId  movieId              tag   timestamp\n",
            "0       2    60756            funny  1445714994\n",
            "1       2    60756  Highly quotable  1445714996\n",
            "2       2    60756     will ferrell  1445714992\n",
            "3       2    89774     Boxing story  1445715207\n",
            "4       2    89774              MMA  1445715200\n"
          ]
        }
      ]
    },
    {
      "cell_type": "markdown",
      "source": [
        "데이터 전처리"
      ],
      "metadata": {
        "id": "oC0alb5Egn16"
      }
    },
    {
      "cell_type": "code",
      "source": [
        "# 태그들을 소문자로 통일, 같은 movieId에 해당하는 태그들을 하나의 문자열로 결합\n",
        "tag_dataset['tag'] = tag_dataset['tag'].astype(str).str.lower()\n",
        "movie_tags = tag_dataset.groupby('movieId')['tag'].apply(lambda x: ' '.join(x)).reset_index()\n",
        "\n",
        "# movies와 tags를 movieId 기준으로 merge\n",
        "movie_dataset = movie_dataset.merge(movie_tags, on='movieId', how='left')\n",
        "\n",
        "# 결측값 처리\n",
        "movie_dataset['tag'] = movie_dataset['tag'].fillna('')\n",
        "\n",
        "# genres와 tags를 결합\n",
        "movie_dataset['content'] = movie_dataset['genres'] + ' ' + movie_dataset['tag']"
      ],
      "metadata": {
        "id": "6zllNiH-gnng"
      },
      "execution_count": null,
      "outputs": []
    },
    {
      "cell_type": "code",
      "source": [
        "print(movie_dataset['content'].head())"
      ],
      "metadata": {
        "colab": {
          "base_uri": "https://localhost:8080/"
        },
        "id": "p2s91ENHOZZQ",
        "outputId": "0240cbbb-fa4d-44bb-b5ce-a24c83b6c014"
      },
      "execution_count": null,
      "outputs": [
        {
          "output_type": "stream",
          "name": "stdout",
          "text": [
            "0    Adventure|Animation|Children|Comedy|Fantasy pi...\n",
            "1    Adventure|Children|Fantasy fantasy magic board...\n",
            "2                             Comedy|Romance moldy old\n",
            "3                                Comedy|Drama|Romance \n",
            "4                              Comedy pregnancy remake\n",
            "Name: content, dtype: object\n"
          ]
        }
      ]
    },
    {
      "cell_type": "markdown",
      "source": [
        "TF-IDF 벡터화"
      ],
      "metadata": {
        "id": "HsAo0boNZqZb"
      }
    },
    {
      "cell_type": "code",
      "source": [
        "from sklearn.feature_extraction.text import TfidfVectorizer\n",
        "\n",
        "tfidf = TfidfVectorizer(token_pattern=r'[^| ]+')\n",
        "tfidf_matrix = tfidf.fit_transform(movie_dataset['content'])"
      ],
      "metadata": {
        "id": "oa33Oed3Z21j"
      },
      "execution_count": null,
      "outputs": []
    },
    {
      "cell_type": "code",
      "source": [
        "print(tfidf_matrix)"
      ],
      "metadata": {
        "colab": {
          "base_uri": "https://localhost:8080/"
        },
        "id": "Y6SMgXvUQrjM",
        "outputId": "8d70aaea-528e-48e1-d7f9-1e6d207d2bd3"
      },
      "execution_count": null,
      "outputs": [
        {
          "output_type": "stream",
          "name": "stdout",
          "text": [
            "<Compressed Sparse Row sparse matrix of dtype 'float64'\n",
            "\twith 27219 stored elements and shape (9742, 1784)>\n",
            "  Coords\tValues\n",
            "  (0, 48)\t0.14923127385752047\n",
            "  (0, 90)\t0.18490545901063682\n",
            "  (0, 302)\t0.18038846066758712\n",
            "  (0, 346)\t0.09576778805506665\n",
            "  (0, 568)\t0.17300098313924464\n",
            "  (0, 1217)\t0.8416771249174413\n",
            "  (0, 629)\t0.40432512831075756\n",
            "  (1, 48)\t0.11462426795143799\n",
            "  (1, 302)\t0.13855604603797955\n",
            "  (1, 568)\t0.26576347617521395\n",
            "  (1, 980)\t0.30552767912025\n",
            "  (1, 201)\t0.3577865894015698\n",
            "  (1, 637)\t0.6850036759600162\n",
            "  (1, 1347)\t0.33165713426090987\n",
            "  (1, 1753)\t0.31056139004241473\n",
            "  (2, 346)\t0.14088088145157518\n",
            "  (2, 1355)\t0.2026249156281861\n",
            "  (2, 1052)\t0.6852356240039252\n",
            "  (2, 1150)\t0.6852356240039252\n",
            "  (3, 346)\t0.5048999073185984\n",
            "  (3, 1355)\t0.7261829999003466\n",
            "  (3, 486)\t0.4666201177032598\n",
            "  (4, 346)\t0.17051503723707886\n",
            "  (4, 1249)\t0.7199029622585923\n",
            "  (4, 1319)\t0.6728033494323146\n",
            "  :\t:\n",
            "  (9731, 1397)\t0.5914233380250173\n",
            "  (9732, 90)\t0.2229200478947716\n",
            "  (9732, 346)\t0.23091324630695412\n",
            "  (9732, 32)\t0.15807860882714372\n",
            "  (9732, 1397)\t0.19500216529666128\n",
            "  (9732, 91)\t0.4508226910452439\n",
            "  (9732, 660)\t0.5615736528391398\n",
            "  (9732, 1320)\t0.5615736528391398\n",
            "  (9733, 90)\t0.9019937535287246\n",
            "  (9733, 486)\t0.4317490805956193\n",
            "  (9734, 346)\t0.7343983109145773\n",
            "  (9734, 486)\t0.678718734768546\n",
            "  (9735, 90)\t1.0\n",
            "  (9736, 470)\t1.0\n",
            "  (9737, 90)\t0.6147020039867584\n",
            "  (9737, 346)\t0.31837162380069134\n",
            "  (9737, 568)\t0.5751266165768291\n",
            "  (9737, 32)\t0.43590174392638464\n",
            "  (9738, 90)\t0.6830065820377863\n",
            "  (9738, 346)\t0.35374850444543904\n",
            "  (9738, 568)\t0.6390336489541658\n",
            "  (9739, 486)\t1.0\n",
            "  (9740, 90)\t0.815719027337036\n",
            "  (9740, 32)\t0.5784483282371206\n",
            "  (9741, 346)\t1.0\n"
          ]
        }
      ]
    },
    {
      "cell_type": "markdown",
      "source": [
        "사용자 프로파일"
      ],
      "metadata": {
        "id": "8gySF3a-HDK4"
      }
    },
    {
      "cell_type": "code",
      "source": [
        "user_id = 1"
      ],
      "metadata": {
        "id": "bLSUR9DxJ-O3"
      },
      "execution_count": null,
      "outputs": []
    },
    {
      "cell_type": "code",
      "source": [
        "# 해당 사용자가 4점 이상 준 영화 추출\n",
        "liked_movies = rate_dataset[(rate_dataset['userId'] == user_id) & (rate_dataset['rating'] >= 4.0)]\n",
        "\n",
        "# 해당 영화들의 movieId → movies에서 index 추출\n",
        "user_liked_movie = movie_dataset[movie_dataset['movieId'].isin(liked_movies['movieId'])].index"
      ],
      "metadata": {
        "id": "MZDgzl-jKAeK"
      },
      "execution_count": null,
      "outputs": []
    },
    {
      "cell_type": "code",
      "source": [
        "user_profile = tfidf_matrix[user_liked_movie].mean(axis=0)\n",
        "user_profile = np.asarray(user_profile)  # np.matrix → ndarray 변환 (버전 문제)"
      ],
      "metadata": {
        "id": "UA_PDyNiGn3C"
      },
      "execution_count": null,
      "outputs": []
    },
    {
      "cell_type": "markdown",
      "source": [
        "유사도 검사\n",
        "\n",
        "\n",
        "코사인 유사도"
      ],
      "metadata": {
        "id": "DgCxWqxCKSHU"
      }
    },
    {
      "cell_type": "code",
      "source": [
        "from sklearn.metrics.pairwise import cosine_similarity\n",
        "\n",
        "user_similarities = cosine_similarity(user_profile.reshape(1, -1), tfidf_matrix).flatten()"
      ],
      "metadata": {
        "id": "jKr_KE54I7sO"
      },
      "execution_count": null,
      "outputs": []
    },
    {
      "cell_type": "code",
      "source": [
        "# 5) 추천 순위 정렬 (내림차순)\n",
        "recommended_indices = user_similarities.argsort()[::-1]"
      ],
      "metadata": {
        "id": "h5VxEsZ4JF2l"
      },
      "execution_count": null,
      "outputs": []
    },
    {
      "cell_type": "code",
      "source": [
        "# 6) 결과 출력 (예: 상위 10개 추천 영화)\n",
        "recommended_movies = movie_dataset.iloc[recommended_indices[:10]][['title', 'genres', 'content']]\n",
        "print(recommended_movies)"
      ],
      "metadata": {
        "colab": {
          "base_uri": "https://localhost:8080/"
        },
        "id": "0PbiADgfJHj8",
        "outputId": "8d5f1b56-bdd7-41c8-e303-a4c373e11fdc"
      },
      "execution_count": null,
      "outputs": [
        {
          "output_type": "stream",
          "name": "stdout",
          "text": [
            "                                        title  \\\n",
            "8597    Dragonheart 2: A New Beginning (2000)   \n",
            "478                  Super Mario Bros. (1993)   \n",
            "6570                Hunting Party, The (2007)   \n",
            "1480                      Goonies, The (1985)   \n",
            "2572  Teenage Mutant Ninja Turtles III (1993)   \n",
            "7374        Sorcerer's Apprentice, The (2010)   \n",
            "9394                      Maximum Ride (2016)   \n",
            "4681           The Great Train Robbery (1978)   \n",
            "4005                         Flashback (1990)   \n",
            "3526                      Extreme Days (2001)   \n",
            "\n",
            "                                               genres  \\\n",
            "8597   Action|Adventure|Comedy|Drama|Fantasy|Thriller   \n",
            "478   Action|Adventure|Children|Comedy|Fantasy|Sci-Fi   \n",
            "6570           Action|Adventure|Comedy|Drama|Thriller   \n",
            "1480         Action|Adventure|Children|Comedy|Fantasy   \n",
            "2572         Action|Adventure|Children|Comedy|Fantasy   \n",
            "7374         Action|Adventure|Children|Comedy|Fantasy   \n",
            "9394  Action|Adventure|Comedy|Fantasy|Sci-Fi|Thriller   \n",
            "4681              Action|Adventure|Comedy|Crime|Drama   \n",
            "4005              Action|Adventure|Comedy|Crime|Drama   \n",
            "3526                    Action|Adventure|Comedy|Drama   \n",
            "\n",
            "                                               content  \n",
            "8597   Action|Adventure|Comedy|Drama|Fantasy|Thriller   \n",
            "478   Action|Adventure|Children|Comedy|Fantasy|Sci-Fi   \n",
            "6570           Action|Adventure|Comedy|Drama|Thriller   \n",
            "1480         Action|Adventure|Children|Comedy|Fantasy   \n",
            "2572         Action|Adventure|Children|Comedy|Fantasy   \n",
            "7374         Action|Adventure|Children|Comedy|Fantasy   \n",
            "9394  Action|Adventure|Comedy|Fantasy|Sci-Fi|Thriller   \n",
            "4681              Action|Adventure|Comedy|Crime|Drama   \n",
            "4005              Action|Adventure|Comedy|Crime|Drama   \n",
            "3526                    Action|Adventure|Comedy|Drama   \n"
          ]
        }
      ]
    }
  ]
}